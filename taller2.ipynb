{
  "nbformat": 4,
  "nbformat_minor": 0,
  "metadata": {
    "colab": {
      "provenance": [],
      "authorship_tag": "ABX9TyNybXQ0D5XbErUY9+Sv2N9s",
      "include_colab_link": true
    },
    "kernelspec": {
      "name": "python3",
      "display_name": "Python 3"
    },
    "language_info": {
      "name": "python"
    }
  },
  "cells": [
    {
      "cell_type": "markdown",
      "metadata": {
        "id": "view-in-github",
        "colab_type": "text"
      },
      "source": [
        "<a href=\"https://colab.research.google.com/github/josegalle17/PROGRAMACION/blob/main/taller2.ipynb\" target=\"_parent\"><img src=\"https://colab.research.google.com/assets/colab-badge.svg\" alt=\"Open In Colab\"/></a>"
      ]
    },
    {
      "cell_type": "markdown",
      "source": [
        "Solucion Taller 2\n",
        "\n",
        "Fundamento de programacion - Ingenieria Mecanica UPB 202310\n",
        "\n",
        "Jose David Gallego Ortiz\n",
        "\n",
        "000516796\n",
        "\n",
        "jose.gallego@upb.edu.co"
      ],
      "metadata": {
        "id": "5cdJDWy5oUv4"
      }
    },
    {
      "cell_type": "code",
      "source": [
        "t_1 = 3\n",
        "t_2 = 10\n",
        "x_0 = 5\n",
        "v_0 = 4\n",
        "a = -2\n",
        "x_1 = x_0 + v_0 * t_1 + (1/2) * a * t_1 ** 2\n",
        "x_2 = x_0 + v_0 * t_2 + (1/2) * a * t_2 **2\n",
        "print(x_1)\n",
        "print(x_2)\n"
      ],
      "metadata": {
        "colab": {
          "base_uri": "https://localhost:8080/"
        },
        "id": "W_S2HRS-2Pdb",
        "outputId": "7d632a25-3a57-4342-ac73-3cb0de6f30ee"
      },
      "execution_count": null,
      "outputs": [
        {
          "output_type": "stream",
          "name": "stdout",
          "text": [
            "8.0\n",
            "-55.0\n"
          ]
        }
      ]
    },
    {
      "cell_type": "code",
      "source": [
        "x_11 = 1\n",
        "y_11 = 1\n",
        "x_12 = -1\n",
        "y_12 = -1\n",
        "x_21 = -2\n",
        "y_21 = 0\n",
        "x_22 = 4\n",
        "y_22 = 5\n",
        "d_1 = ((x_12 - x_11) ** 2 + (y_12 - y_11) ** 2) ** 0.5\n",
        "d_2 = ((x_22 - x_21) ** 2 + (y_22 - y_21) ** 2) ** 0.5\n",
        "print(d_1)\n",
        "print(d_2)"
      ],
      "metadata": {
        "colab": {
          "base_uri": "https://localhost:8080/"
        },
        "id": "sCrOxhsJ92Uz",
        "outputId": "519525d8-f80c-4fdd-890a-773e6b44bfd0"
      },
      "execution_count": null,
      "outputs": [
        {
          "output_type": "stream",
          "name": "stdout",
          "text": [
            "2.8284271247461903\n",
            "7.810249675906654\n"
          ]
        }
      ]
    },
    {
      "cell_type": "code",
      "source": [],
      "metadata": {
        "id": "6gJ3X6fTs1HO"
      },
      "execution_count": null,
      "outputs": []
    },
    {
      "cell_type": "code",
      "source": [
        "A = -3\n",
        "B = 3\n",
        "C = 4\n",
        "D = 0\n",
        "print (A <=B)\n",
        "print(B > C)\n",
        "print((A != C) and (D > A))\n",
        "print((B < C) or (B > A))\n",
        "print(A != D)\n",
        "print(A - D > C)\n",
        "print(D + C >=A * B)\n",
        "print((A * C== 10) or (B * A < 3))\n",
        "print(B * C + D > D * 5)\n",
        "print(2 * A == -D * 4)\n"
      ],
      "metadata": {
        "colab": {
          "base_uri": "https://localhost:8080/"
        },
        "id": "6l9Elibf76sZ",
        "outputId": "8a1546d1-e228-493d-d123-0af401bf8ba3"
      },
      "execution_count": null,
      "outputs": [
        {
          "output_type": "stream",
          "name": "stdout",
          "text": [
            "True\n",
            "False\n",
            "True\n",
            "True\n",
            "True\n",
            "False\n",
            "True\n",
            "True\n",
            "True\n",
            "False\n"
          ]
        }
      ]
    }
  ]
}