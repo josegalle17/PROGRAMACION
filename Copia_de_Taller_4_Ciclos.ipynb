{
  "cells": [
    {
      "cell_type": "markdown",
      "metadata": {
        "id": "view-in-github",
        "colab_type": "text"
      },
      "source": [
        "<a href=\"https://colab.research.google.com/github/josegalle17/PROGRAMACION/blob/main/Copia_de_Taller_4_Ciclos.ipynb\" target=\"_parent\"><img src=\"https://colab.research.google.com/assets/colab-badge.svg\" alt=\"Open In Colab\"/></a>"
      ]
    },
    {
      "cell_type": "markdown",
      "id": "66beb5a1",
      "metadata": {
        "id": "66beb5a1"
      },
      "source": [
        "# Fundamentos de Programación para Ingeniería Mecánica\n",
        "## UPB Montería - 202310\n",
        "### Taller 4: Ciclos\n",
        "- Docente: Miguel Ortiz (miguel.ortizp@upb.edu.co)"
      ]
    },
    {
      "cell_type": "markdown",
      "id": "b4381f55",
      "metadata": {
        "id": "b4381f55"
      },
      "source": [
        "Datos del Estudiante:\n",
        "- Nombre:Jose David Gallego Ortiz\n",
        "- ID:000516796\n",
        "- email:jose.gallegoo@upb.edu.co"
      ]
    },
    {
      "cell_type": "markdown",
      "id": "433f35a0",
      "metadata": {
        "id": "433f35a0"
      },
      "source": [
        "Resuelva los siguientes ejercicios utilizando estructuras cíclicas y condicionales."
      ]
    },
    {
      "cell_type": "markdown",
      "id": "aead929b",
      "metadata": {
        "id": "aead929b"
      },
      "source": [
        "### Problema 1: Suma de Elementos (30xp)\n",
        "\n",
        "Indique cuál de los dos números ingresados por el usuario tiene una suma de dígitos mayor y la diferencia de estas sumas. Si las sumas de los dígitos son iguales, infórmelo al usuario. \n",
        "\n",
        "**Ejemplo:**\n",
        "\n",
        "```\n",
        "Ingrese el primer número: 23672646\n",
        "Ingrese el segundo número: 12653686\n",
        "La suma de los elementos de la lista 2 es mayor que la suma de los elementos de la lista 1 en 1 unidades.\n",
        "```\n",
        "\n",
        "**Recomendación:** pruebe su algoritmo con listas de prueba:\n",
        "- `lst_1`: lista que representa el primer número. Por ejemplo: dígitos del número de su documento de identidad\n",
        "- `lst_2`: lista que representa el segundo número. Por ejemplo: dígitos del número de su id\n",
        "\n",
        "**Nota:** para leer un número ingresado por el usuario y convertirlo en lista puede utilizar las siguientes instrucciones:\n",
        "\n",
        "```python\n",
        "num = input('Número: ')\n",
        "lst = [int(x) for x in num]\n",
        "```"
      ]
    },
    {
      "cell_type": "code",
      "execution_count": null,
      "id": "46b47e9b",
      "metadata": {
        "id": "46b47e9b",
        "outputId": "c80e0f43-68a9-4ecd-aff1-6b1cda0d166b",
        "colab": {
          "base_uri": "https://localhost:8080/"
        }
      },
      "outputs": [
        {
          "output_type": "stream",
          "name": "stdout",
          "text": [
            "La segunda lista es mas grande\n"
          ]
        }
      ],
      "source": [
        "\n",
        "lst_1 = [1, 1, 0, 5, 1, 3, 9, 1, 0, 0, 8]\n",
        "lst_2 = [0, 0, 0, 5, 1, 6, 7, 9, 6]\n",
        "sum_1 = 0\n",
        "sum_2 = 0\n",
        "for i in lst_1:\n",
        "  sum_1 += i\n",
        "for i in lst_2:\n",
        "  sum_2 += i\n",
        "if sum_1 > sum_2:\n",
        "  print(\"La primera lista es mas grande\")\n",
        "elif sum_2 > sum_1:\n",
        "  print(\"La segunda lista es mas grande\")\n",
        "else:\n",
        "  print(\"La suma de las listas son iguales\")\n",
        "\n"
      ]
    },
    {
      "cell_type": "markdown",
      "id": "986a4945",
      "metadata": {
        "id": "986a4945"
      },
      "source": [
        "### Problema 2: Suma Objetivo (50xp)\n",
        "\n",
        "Indique si la suma de los dígitos de un número de verificación alcanza un valor objetivo. Si obtiene el valor objetivo antes de finalizar el recorrido por todos los dígitos del número, indique la iteración en la que se obtuvo este valor. Tenga en cuenta que tanto el valor objetivo como el número de verificación son ingresados por el usuario. En cualquiera de los casos, muestre el resultado obtenido de la suma de los dígitos.\n",
        "\n",
        "**Ejemplo:**\n",
        "```\n",
        "Ingrese número de suma objetivo: 15\n",
        "Ingrese número para validar suma de dígitos: 1234562\n",
        "Suma obtenida en iteración 5 de 7\n",
        "Resultado obtenido: 15\n",
        "Alcanzó el valor objetivo.\n",
        "```\n",
        "\n",
        "**Recomendación:** pruebe su algoritmo con números y listas de prueba:\n",
        "- `n_obj`: valor objetivo\n",
        "- `lst`: lista que representa el número de verificación. Por ejemplo: dígitos del número de su id\n",
        "\n",
        "**Nota:** para leer un número ingresado por el usuario y convertirlo en lista puede utilizar las siguientes instrucciones:\n",
        "\n",
        "```python\n",
        "num = input('Número: ')\n",
        "lst = [int(x) for x in num]\n",
        "```"
      ]
    },
    {
      "cell_type": "code",
      "source": [
        "n_obj= int(input(\"Ingrese el numero de la suma objetivo\"))\n",
        "lst = [int(x) for x in input(\"Ingrese numero para validar suma de digitos\")]\n",
        "\n",
        "suma = 0\n",
        "encontrado = False\n",
        "\n",
        "for i in range(len(lst)):\n",
        "  suma += lst[i]\n",
        "  if suma == n_obj:\n",
        "    print(f\"Suma obtenida en la iteracion {i+1} de {len(lst)}\")\n",
        "    print(f\"Resultado obtenido: {suma}\")\n",
        "    print(\"Se logro el valor objetivo\")\n",
        "    encontrado = True\n",
        "    break\n",
        "\n",
        "if not encontrado:\n",
        "  print(f\"Resultado obtenido: {suma}\")\n",
        "  print(\"No se logro el valor objetivo\")"
      ],
      "metadata": {
        "id": "kwF_2uKVI7yr",
        "outputId": "7983fc6e-71b7-4544-c457-a9c0ebb4c16c",
        "colab": {
          "base_uri": "https://localhost:8080/"
        }
      },
      "id": "kwF_2uKVI7yr",
      "execution_count": null,
      "outputs": [
        {
          "output_type": "stream",
          "name": "stdout",
          "text": [
            "Ingrese el numero de la suma objetivo67\n",
            "Ingrese numero para validar suma de digitos245124524\n",
            "Resultado obtenido: 29\n",
            "No se logro el valor objetivo\n"
          ]
        }
      ]
    },
    {
      "cell_type": "markdown",
      "id": "0b532b9b",
      "metadata": {
        "id": "0b532b9b"
      },
      "source": [
        "### Problema 3: Dígito Mayor (40xp)\n",
        "\n",
        "Indique el dígito de mayor valor y su posición en un número ingresado por el usuario. En caso de que el dígito mayor se repita, se debe retornar el índice del primero de ellos que fue encontrado. \n",
        "\n",
        "**Ejemplo:**\n",
        "\n",
        "```\n",
        "Ingrese número: 123753569054\n",
        "El dígito mayor de la lista es 9\n",
        "El número se encontró en la posición 8\n",
        "```\n",
        "\n",
        "**Recomendación:** pruebe su algoritmo con listas de prueba:\n",
        "- `lst`: lista que representa el número a evaluar. Por ejemplo: dígitos del número de su documento de identidad\n",
        "\n",
        "**Nota:** para leer un número ingresado por el usuario y convertirlo en lista puede utilizar las siguientes instrucciones:\n",
        "\n",
        "```python\n",
        "num = input('Número: ')\n",
        "lst = [int(x) for x in num]\n",
        "```"
      ]
    },
    {
      "cell_type": "code",
      "execution_count": null,
      "id": "9159f388",
      "metadata": {
        "scrolled": true,
        "id": "9159f388",
        "outputId": "6ac7eafd-a711-44df-ff81-4aa892ee8b71",
        "colab": {
          "base_uri": "https://localhost:8080/"
        }
      },
      "outputs": [
        {
          "output_type": "stream",
          "name": "stdout",
          "text": [
            "numero:67\n",
            "El digito mayor de la lista es 7 \n",
            "El numero se encontro en la posicion 1\n"
          ]
        }
      ],
      "source": [
        "num = input(\"numero:\")\n",
        "lst = [int(x) for x in num]\n",
        "\n",
        "maximo_digito = lst[0]\n",
        "index = 0\n",
        "for i in range(len(lst)):\n",
        "  if lst[i] > maximo_digito:\n",
        "    maximo_digito = lst[i]\n",
        "    index = i\n",
        "print(f\"El digito mayor de la lista es {maximo_digito} \")\n",
        "print(f\"El numero se encontro en la posicion {index}\")"
      ]
    },
    {
      "cell_type": "markdown",
      "id": "03af9108",
      "metadata": {
        "id": "03af9108"
      },
      "source": [
        "### Problema 4: Valores que coinciden (50xp)\n",
        "\n",
        "Indique las posiciones (índices) en los cuales se encuentran los mismos valores de los dígitos en dos números ingresados por el usuario. El algoritmo debe verificar que los números tengan la misma longitud (igual número de dígitos). Si ninguno de los dígitos de los números coincide, también debe informarlo al usuario. \n",
        "\n",
        "**Ejemplo:**\n",
        "\n",
        "```\n",
        "Ingrese el primer número: 124646272\n",
        "Ingrese el segundo número: 354849136\n",
        "Los números tienen 2 dígitos(s) en común en la(s) posición(es): [2, 4]\n",
        "```\n",
        "\n",
        "**Recomendación:** pruebe su algoritmo con listas de prueba:\n",
        "- `lst_1`: lista que representa el primer número. \n",
        "- `lst_2`: lista que representa el segundo número. \n",
        "\n",
        "**Nota:** para leer un número ingresado por el usuario y convertirlo en lista puede utilizar las siguientes instrucciones:\n",
        "\n",
        "```python\n",
        "num = input('Número: ')\n",
        "lst = [int(x) for x in num]\n",
        "```"
      ]
    },
    {
      "cell_type": "code",
      "execution_count": null,
      "id": "85469377",
      "metadata": {
        "id": "85469377",
        "outputId": "85ddcd95-5178-41aa-99c6-ef5ed1d783e3",
        "colab": {
          "base_uri": "https://localhost:8080/"
        }
      },
      "outputs": [
        {
          "output_type": "stream",
          "name": "stdout",
          "text": [
            "Ingrese el primer numero: 777\n",
            "Ingrese el segundo numero: 777\n",
            "Los numeros tienen 3 digitos en comun en las posiciones :[0, 1, 2]\n"
          ]
        }
      ],
      "source": [
        "num1 = input(\"Ingrese el primer numero: \")\n",
        "num2 = input(\"Ingrese el segundo numero: \")\n",
        "\n",
        "if len(num1) != len(num2):\n",
        "  print(\"Los numeros deben tener la misma longuitud\")\n",
        "else:\n",
        "  posicion = []\n",
        "  for i in range(len(num1)):\n",
        "    if num1[i] == num2[i]:\n",
        "      posicion += [i]\n",
        "  if len(posicion) == 0:\n",
        "    print(\"Ninguno de los numeros coincide\")\n",
        "  else:\n",
        "    print(f\"Los numeros tienen {len(posicion)} digitos en comun en las posiciones :{posicion}\")\n"
      ]
    },
    {
      "cell_type": "code",
      "execution_count": null,
      "id": "fdf35177",
      "metadata": {
        "id": "fdf35177"
      },
      "outputs": [],
      "source": []
    }
  ],
  "metadata": {
    "kernelspec": {
      "display_name": "Python 3 (ipykernel)",
      "language": "python",
      "name": "python3"
    },
    "language_info": {
      "codemirror_mode": {
        "name": "ipython",
        "version": 3
      },
      "file_extension": ".py",
      "mimetype": "text/x-python",
      "name": "python",
      "nbconvert_exporter": "python",
      "pygments_lexer": "ipython3",
      "version": "3.10.6"
    },
    "colab": {
      "provenance": [],
      "include_colab_link": true
    }
  },
  "nbformat": 4,
  "nbformat_minor": 5
}